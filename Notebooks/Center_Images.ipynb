{
 "cells": [
  {
   "cell_type": "code",
   "execution_count": 1,
   "metadata": {},
   "outputs": [],
   "source": [
    "# Written by Jesse van Duijne on 12-05-2020"
   ]
  },
  {
   "cell_type": "code",
   "execution_count": 2,
   "metadata": {},
   "outputs": [],
   "source": [
    "# This script crops the images to the center\n",
    "# Useful for our own images, which are all landscape/portrait.\n",
    "# They need to become squared without adding black to the sides"
   ]
  },
  {
   "cell_type": "code",
   "execution_count": 6,
   "metadata": {},
   "outputs": [],
   "source": [
    "from PIL import Image\n",
    "import os\n",
    "import numpy as np"
   ]
  },
  {
   "cell_type": "code",
   "execution_count": 10,
   "metadata": {},
   "outputs": [],
   "source": [
    "path = \"C:\\\\Users\\\\Jesse\\\\Hogeschool Inholland\\\\Minor Big Data - Group - General\\\\Opdracht\\\\Dataset\\\\v2\\\\\"\n",
    "input_folder = \"Bad v0.1 (own input)\"\n",
    "output_folder = path + \"Bad v0.2 (own input - centered)\"\n",
    "new_size = 300,300  #300x300\n",
    "file_sign = 'go'  # File name to point them out"
   ]
  },
  {
   "cell_type": "code",
   "execution_count": 11,
   "metadata": {},
   "outputs": [],
   "source": [
    "i = 1\n",
    "for subdir, dirs, files in os.walk(path + input_folder):\n",
    "    for filename in files:\n",
    "        if filename.endswith('.jpeg') or filename.endswith('.jpg'):\n",
    "            imgpath = os.path.join(subdir, filename)\n",
    "            img = Image.open(imgpath)            \n",
    "   \n",
    "            output_img = crop_center(img, 800, 800)             \n",
    "            \n",
    "            output_img.save(\"{0}\\\\{1}{2}.jpg\".format(output_folder, file_sign, i))\n",
    "            i = i + 1           \n",
    "                "
   ]
  },
  {
   "cell_type": "code",
   "execution_count": 8,
   "metadata": {},
   "outputs": [],
   "source": [
    "def crop_center(img, w, h):\n",
    "    img_width, img_height = img.size\n",
    "    left, right = (img_width - w) / 2, (img_width + w) / 2\n",
    "    top, bottom = (img_height - h) / 2, (img_height + h) / 2\n",
    "    left, top = round(max(0, left)), round(max(0, top))\n",
    "    right, bottom = round(min(img_width - 0, right)), round(min(img_height - 0, bottom))\n",
    "    return img.crop((left, top, right, bottom))"
   ]
  },
  {
   "cell_type": "code",
   "execution_count": null,
   "metadata": {},
   "outputs": [],
   "source": []
  }
 ],
 "metadata": {
  "kernelspec": {
   "display_name": "Python 3",
   "language": "python",
   "name": "python3"
  },
  "language_info": {
   "codemirror_mode": {
    "name": "ipython",
    "version": 3
   },
   "file_extension": ".py",
   "mimetype": "text/x-python",
   "name": "python",
   "nbconvert_exporter": "python",
   "pygments_lexer": "ipython3",
   "version": "3.7.7"
  }
 },
 "nbformat": 4,
 "nbformat_minor": 4
}
