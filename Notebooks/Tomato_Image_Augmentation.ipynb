{
 "cells": [
  {
   "cell_type": "code",
   "execution_count": 1,
   "metadata": {},
   "outputs": [],
   "source": [
    "# Written by Jesse van Duijne on 13-05-2020"
   ]
  },
  {
   "cell_type": "code",
   "execution_count": null,
   "metadata": {},
   "outputs": [],
   "source": [
    "# This script augments images in different types\n",
    "# ..which means the same images will be multiplied"
   ]
  },
  {
   "cell_type": "code",
   "execution_count": 5,
   "metadata": {},
   "outputs": [],
   "source": [
    "import imageio\n",
    "import imgaug as ia\n",
    "import imgaug.augmenters as iaa\n",
    "import numpy as np\n",
    "import pandas as pd\n",
    "import matplotlib.pyplot as plt\n",
    "import matplotlib\n",
    "import os\n",
    "import cv2\n",
    "import random\n",
    "from skimage.transform import warp, AffineTransform\n",
    "%matplotlib inline"
   ]
  },
  {
   "cell_type": "code",
   "execution_count": 6,
   "metadata": {},
   "outputs": [],
   "source": [
    "path = \"C:\\\\Users\\\\Jesse\\\\Hogeschool Inholland\\\\Minor Big Data - Group - General\\\\Opdracht\\\\Dataset\\\\v2\"\n",
    "input_folder = \"Good v0.2 (own input - resized)\"\n",
    "input_folder_path = os.path.join(path, input_folder)\n",
    "output_folder = \"Good v0.3 (own input - augmented)\"\n",
    "output_folder_path = os.path.join(path, output_folder)\n",
    "file_sign = 'go'  # File name to point them out"
   ]
  },
  {
   "cell_type": "code",
   "execution_count": 12,
   "metadata": {},
   "outputs": [],
   "source": [
    "for filename in os.listdir(input_folder_path):\n",
    "    if filename.endswith('.jpg'):\n",
    "        imgpath = os.path.join(input_folder_path, filename)\n",
    "        filename_stripped = 'g' + filename.strip('.jpg')             \n",
    "        output_file_path_typeless = os.path.join(output_folder_path, filename_stripped)        \n",
    "        \n",
    "        # 1 Read default img\n",
    "        img = imageio.imread(imgpath)\n",
    "        img = cv2.cvtColor(img, cv2.COLOR_BGR2RGB)\n",
    "        cv2.imwrite(output_file_path_typeless + \"_default.jpg\", img) \n",
    "        \n",
    "        # 2 Rotate\n",
    "        rotate=iaa.Affine(rotate=(-50, 30))\n",
    "        rotated_image=rotate.augment_image(img)        \n",
    "        cv2.imwrite(output_file_path_typeless + \"_rotated.jpg\", rotated_image)\n",
    "        \n",
    "        # 3 Gauss noise\n",
    "        gaussian_noise=iaa.AdditiveGaussianNoise(10,20)\n",
    "        noise_image=gaussian_noise.augment_image(img)\n",
    "        cv2.imwrite(output_file_path_typeless + \"_gauss_noise.jpg\", noise_image)\n",
    "        \n",
    "        # 4 Cropping\n",
    "        crop = iaa.Crop(percent=(0, 0.3)) # crop image\n",
    "        crop_image = crop.augment_image(img)\n",
    "        cv2.imwrite(output_file_path_typeless + \"_crop.jpg\", crop_image)\n",
    "        \n",
    "        # 5 Shearing\n",
    "        shear = iaa.Affine(shear=(0,40))\n",
    "        shear_image = shear.augment_image(img)\n",
    "        cv2.imwrite(output_file_path_typeless + \"_shear.jpg\", shear_image)\n",
    "        \n",
    "        # 6 Flipping horizontally\n",
    "        flip_hr = iaa.Fliplr(p=1.0)\n",
    "        flip_hr_image = flip_hr.augment_image(img)\n",
    "        cv2.imwrite(output_file_path_typeless + \"_flip_hr.jpg\", flip_hr_image)\n",
    "        \n",
    "        # 7 Flip vertically\n",
    "        flip_vr = iaa.Flipud(p=1.0)\n",
    "        flip_vr_image= flip_vr.augment_image(img)\n",
    "        cv2.imwrite(output_file_path_typeless + \"_flip_vr.jpg\", flip_vr_image)\n",
    "        \n",
    "        # 8 Change brightness\n",
    "        contrast = iaa.GammaContrast(gamma=2.0)\n",
    "        contrast_image = contrast.augment_image(img)\n",
    "        cv2.imwrite(output_file_path_typeless + \"_constrast.jpg\", contrast_image)\n",
    "        \n",
    "        # 9 Scaling image\n",
    "        scale_im = iaa.Affine(scale={\"x\": (1.5, 1.0), \"y\": (1.5, 1.0)})\n",
    "        scale_image = scale_im.augment_image(img)\n",
    "        cv2.imwrite(output_file_path_typeless + \"_scaled.jpg\", scale_image)\n",
    "                        \n",
    "        # 10 Blur image\n",
    "        blurred_img = cv2.blur(img, (3, 3))\n",
    "        cv2.imwrite(output_file_path_typeless + \"_blurred.jpg\", blurred_img)\n",
    "            \n",
    "        # 11 Salt & Pepper noise\n",
    "        sp_image = add_sp_noise(img, 0.001)\n",
    "        cv2.imwrite(output_file_path_typeless + \"_saltpepper.jpg\", sp_image)\n",
    "    \n",
    "        \n",
    "        "
   ]
  },
  {
   "cell_type": "code",
   "execution_count": 8,
   "metadata": {},
   "outputs": [],
   "source": [
    "def add_sp_noise(img, prob):\n",
    "    output = np.zeros(img.shape, np.uint8)\n",
    "    thres = 1 - prob\n",
    "    for i in range(img.shape[0]):\n",
    "        for j  in range(img.shape[1]):\n",
    "            rnd = random.random()\n",
    "            if rnd < prob:\n",
    "                output[i][j] = 0\n",
    "            elif rnd > thres:\n",
    "                output[i][j] = 255\n",
    "            else: \n",
    "                output[i][j] = img[i][j]\n",
    "    return output"
   ]
  },
  {
   "cell_type": "code",
   "execution_count": 9,
   "metadata": {},
   "outputs": [],
   "source": [
    "def shift_image(X, dx, dy):\n",
    "    X = np.roll(X, dy, axis=0)\n",
    "    X = np.roll(X, dx, axis=1)\n",
    "    if dy>0:\n",
    "        X[:dy, :] = 0\n",
    "    elif dy<0:\n",
    "        X[dy:, :] = 0\n",
    "    if dx>0:\n",
    "        X[:, :dx] = 0\n",
    "    elif dx<0:\n",
    "        X[:, dx:] = 0\n",
    "    return X"
   ]
  },
  {
   "cell_type": "code",
   "execution_count": null,
   "metadata": {},
   "outputs": [],
   "source": []
  }
 ],
 "metadata": {
  "kernelspec": {
   "display_name": "Python 3",
   "language": "python",
   "name": "python3"
  },
  "language_info": {
   "codemirror_mode": {
    "name": "ipython",
    "version": 3
   },
   "file_extension": ".py",
   "mimetype": "text/x-python",
   "name": "python",
   "nbconvert_exporter": "python",
   "pygments_lexer": "ipython3",
   "version": "3.7.7"
  }
 },
 "nbformat": 4,
 "nbformat_minor": 4
}
