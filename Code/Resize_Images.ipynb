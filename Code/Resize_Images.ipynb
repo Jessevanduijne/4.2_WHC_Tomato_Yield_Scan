{
 "cells": [
  {
   "cell_type": "code",
   "execution_count": 15,
   "metadata": {},
   "outputs": [],
   "source": [
    "# Written by Jesse van Duijne on 12-05-2020"
   ]
  },
  {
   "cell_type": "code",
   "execution_count": null,
   "metadata": {},
   "outputs": [],
   "source": [
    "# This script resizes images to desired size \n",
    "# ..and adds black to spots on the sides if needed"
   ]
  },
  {
   "cell_type": "code",
   "execution_count": 1,
   "metadata": {},
   "outputs": [],
   "source": [
    "import imageio\n",
    "import imgaug as ia\n",
    "import imgaug.augmenters as iaa\n",
    "import numpy as np\n",
    "import pandas as pd\n",
    "import matplotlib.pyplot as plt\n",
    "import matplotlib.patches as patches\n",
    "import matplotlib\n",
    "import os\n",
    "import cv2\n",
    "import random\n",
    "import re\n",
    "from PIL import Image\n",
    "%matplotlib inline"
   ]
  },
  {
   "cell_type": "code",
   "execution_count": 17,
   "metadata": {},
   "outputs": [],
   "source": [
    "path = \"C:\\\\Users\\\\Jesse\\\\Hogeschool Inholland\\\\Minor Big Data - Group - General\\\\Opdracht\\\\Dataset\\\\v2\\\\\"\n",
    "input_folder = \"Bad v0.1 (kaggle dataset)\"\n",
    "output_folder = path + \"Bad v0.2 (kaggle resized)\"\n",
    "new_size = 300  #300x300\n",
    "file_sign = 'bk'  # File name to point them out"
   ]
  },
  {
   "cell_type": "code",
   "execution_count": 18,
   "metadata": {},
   "outputs": [],
   "source": [
    "def resize(image, target_width, target_height):\n",
    "    target_ratio = target_height / target_width\n",
    "    img_ratio = image.height / image.width\n",
    "    \n",
    "    if target_ratio > img_ratio:\n",
    "        # It must be fixed by width\n",
    "        resize_width = target_width\n",
    "        resize_height = round(resize_width * img_ratio)\n",
    "    else:\n",
    "        # Fixed by height\n",
    "        resize_height = target_height\n",
    "        resize_width = round(resize_height / img_ratio)\n",
    "        \n",
    "    image_resize = image.resize((resize_width, resize_height), Image.ANTIALIAS)\n",
    "    background = Image.new('RGBA', (target_width, target_height), 0)\n",
    "    offset = (round((target_width - resize_width) / 2), round((target_height - resize_height) / 2))\n",
    "    background.paste(image_resize, offset)\n",
    "    return background.convert('RGB')"
   ]
  },
  {
   "cell_type": "code",
   "execution_count": 19,
   "metadata": {},
   "outputs": [],
   "source": [
    "i = 1\n",
    "for subdir, dirs, files in os.walk(path + input_folder):\n",
    "    for filename in files:\n",
    "        if filename.endswith('.jpeg') or filename.endswith('.jpg'):\n",
    "            imgpath = os.path.join(subdir, filename)\n",
    "            img = Image.open(imgpath)\n",
    "            output_img = resize(img, new_size, new_size) \n",
    "            output_img.save(\"{0}\\\\{1}{2}.jpg\".format(output_folder, file_sign, i))\n",
    "\n",
    "            i = i + 1\n",
    "        "
   ]
  },
  {
   "cell_type": "code",
   "execution_count": null,
   "metadata": {},
   "outputs": [],
   "source": []
  },
  {
   "cell_type": "code",
   "execution_count": null,
   "metadata": {},
   "outputs": [],
   "source": []
  }
 ],
 "metadata": {
  "kernelspec": {
   "display_name": "Python 3",
   "language": "python",
   "name": "python3"
  },
  "language_info": {
   "codemirror_mode": {
    "name": "ipython",
    "version": 3
   },
   "file_extension": ".py",
   "mimetype": "text/x-python",
   "name": "python",
   "nbconvert_exporter": "python",
   "pygments_lexer": "ipython3",
   "version": "3.7.7"
  }
 },
 "nbformat": 4,
 "nbformat_minor": 4
}
